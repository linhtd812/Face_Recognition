{
 "cells": [
  {
   "cell_type": "code",
   "execution_count": 3,
   "id": "4850ce63-b311-437a-ae2f-70e9bafb55b3",
   "metadata": {},
   "outputs": [],
   "source": [
    "from PIL import Image\n",
    "import os\n",
    "\n",
    "in_path = '/media/linh/hdd4TA/Automated-Attendance-System-using-CNN-master/output/Linh_Trinh/' #replace \"person1\" with your subfolder name(s).\n",
    "\n",
    "imgs = os.listdir(in_path)\n",
    "for img in imgs:\n",
    "    imgg = Image.open(in_path+img) \n",
    "    imgg = imgg.resize((160,160))\n",
    "    imgg.save(in_path+img)"
   ]
  },
  {
   "cell_type": "code",
   "execution_count": null,
   "id": "32250c64-2a42-4e63-bdfa-f5458e5f4606",
   "metadata": {},
   "outputs": [],
   "source": []
  }
 ],
 "metadata": {
  "kernelspec": {
   "display_name": "Python 3",
   "language": "python",
   "name": "python3"
  },
  "language_info": {
   "codemirror_mode": {
    "name": "ipython",
    "version": 3
   },
   "file_extension": ".py",
   "mimetype": "text/x-python",
   "name": "python",
   "nbconvert_exporter": "python",
   "pygments_lexer": "ipython3",
   "version": "3.6.13"
  }
 },
 "nbformat": 4,
 "nbformat_minor": 5
}
